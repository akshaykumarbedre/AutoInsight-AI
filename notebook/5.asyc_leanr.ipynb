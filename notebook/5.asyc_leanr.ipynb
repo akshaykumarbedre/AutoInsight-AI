{
 "cells": [
  {
   "cell_type": "code",
   "execution_count": 1,
   "id": "4c0141fb",
   "metadata": {},
   "outputs": [],
   "source": [
    "def handle_database_query(query):\n",
    "    return asyncio.run(process_database_query(query))\n",
    "\n",
    "# Main async handler for visualization queries\n",
    "def handle_visualization_query(query):\n",
    "    return asyncio.run(process_visualization_query(query))"
   ]
  },
  {
   "cell_type": "code",
   "execution_count": null,
   "metadata": {},
   "outputs": [],
   "source": []
  }
 ],
 "metadata": {
  "kernelspec": {
   "display_name": "automl",
   "language": "python",
   "name": "python3"
  },
  "language_info": {
   "codemirror_mode": {
    "name": "ipython",
    "version": 3
   },
   "file_extension": ".py",
   "mimetype": "text/x-python",
   "name": "python",
   "nbconvert_exporter": "python",
   "pygments_lexer": "ipython3",
   "version": "3.12.0"
  }
 },
 "nbformat": 4,
 "nbformat_minor": 5
}
