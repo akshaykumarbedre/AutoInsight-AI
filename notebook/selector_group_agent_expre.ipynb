{
 "cells": [
  {
   "cell_type": "code",
   "execution_count": 2,
   "id": "1d1432f9",
   "metadata": {},
   "outputs": [],
   "source": [
    "import datetime\n",
    "\n",
    "from autogen_agentchat.messages import (\n",
    "    TextMessage,\n",
    "    ToolCallRequestEvent,\n",
    "    FunctionCall,\n",
    "    RequestUsage,\n",
    "    ToolCallExecutionEvent,\n",
    "    FunctionExecutionResult,\n",
    "    ToolCallSummaryMessage,\n",
    "    UserInputRequestedEvent,\n",
    ")\n"
   ]
  },
  {
   "cell_type": "code",
   "execution_count": 65,
   "id": "aa101c66",
   "metadata": {},
   "outputs": [],
   "source": [
    "messages=[TextMessage(source='user', models_usage=None, metadata={}, created_at=datetime.datetime(2025, 6, 16, 12, 26, 2, 951617, tzinfo=datetime.timezone.utc), content='give me list of name os items', type='TextMessage'), ToolCallRequestEvent(source='Database_enginer', models_usage=RequestUsage(prompt_tokens=0, completion_tokens=0), metadata={}, created_at=datetime.datetime(2025, 6, 16, 12, 26, 5, 377546, tzinfo=datetime.timezone.utc), content=[FunctionCall(id='call_4LcHcr6peDVyoIXQ88CXT099', arguments='{\"query\":\"SELECT id, name FROM products WHERE id IN (6, 9, 11, 10, 8, 5, 3, 12, 7, 4);\"}', name='sql_db_query_checker')], type='ToolCallRequestEvent'), ToolCallExecutionEvent(source='Database_enginer', models_usage=None, metadata={}, created_at=datetime.datetime(2025, 6, 16, 12, 26, 6, 999043, tzinfo=datetime.timezone.utc), content=[FunctionExecutionResult(content='SELECT id, name FROM products WHERE id IN (6, 9, 11, 10, 8, 5, 3, 12, 7, 4);', name='sql_db_query_checker', call_id='call_4LcHcr6peDVyoIXQ88CXT099', is_error=False)], type='ToolCallExecutionEvent'), ToolCallSummaryMessage(source='Database_enginer', models_usage=None, metadata={}, created_at=datetime.datetime(2025, 6, 16, 12, 26, 6, 999043, tzinfo=datetime.timezone.utc), content='SELECT id, name FROM products WHERE id IN (6, 9, 11, 10, 8, 5, 3, 12, 7, 4);', type='ToolCallSummaryMessage', tool_calls=[FunctionCall(id='call_4LcHcr6peDVyoIXQ88CXT099', arguments='{\"query\":\"SELECT id, name FROM products WHERE id IN (6, 9, 11, 10, 8, 5, 3, 12, 7, 4);\"}', name='sql_db_query_checker')], results=[FunctionExecutionResult(content='SELECT id, name FROM products WHERE id IN (6, 9, 11, 10, 8, 5, 3, 12, 7, 4);', name='sql_db_query_checker', call_id='call_4LcHcr6peDVyoIXQ88CXT099', is_error=False)]), UserInputRequestedEvent(source='UserProxyAgent', models_usage=None, metadata={}, created_at=datetime.datetime(2025, 6, 16, 12, 26, 8, 34472, tzinfo=datetime.timezone.utc), request_id='616f4bbb-5549-4a75-9582-d76d9b459763', content='', type='UserInputRequestedEvent'), TextMessage(source='UserProxyAgent', models_usage=None, metadata={}, created_at=datetime.datetime(2025, 6, 16, 12, 26, 23, 272736, tzinfo=datetime.timezone.utc), content='go ', type='TextMessage'), ToolCallRequestEvent(source='Data_visualization', models_usage=RequestUsage(prompt_tokens=0, completion_tokens=0), metadata={}, created_at=datetime.datetime(2025, 6, 16, 12, 26, 26, 495813, tzinfo=datetime.timezone.utc), content=[FunctionCall(id='call_jDmwQOQw1uqW8KqxrAj2EyZ9', arguments='{\"data\":[[\"Item A\",7],[\"Item B\",4],[\"Item C\",2],[\"Item D\",2],[\"Item E\",2],[\"Item F\",2],[\"Item G\",2],[\"Item H\",1],[\"Item I\",1],[\"Item J\",1]],\"title\":\"Top Sale Items By Name\",\"color\":\"skyblue\",\"xlabel\":\"Item Names\",\"ylabel\":\"Sales Count\"}', name='create_bar_chart')], type='ToolCallRequestEvent'), ToolCallExecutionEvent(source='Data_visualization', models_usage=None, metadata={}, created_at=datetime.datetime(2025, 6, 16, 12, 26, 27, 47981, tzinfo=datetime.timezone.utc), content=[FunctionExecutionResult(content=\"{'status': 'success', 'plot_path': 'plots/bar_chart_20250616_175626.png', 'absolute_path': 'd:\\\\\\\\AutoInsight-AI\\\\\\\\notebook\\\\\\\\plots\\\\\\\\bar_chart_20250616_175626.png'}\", name='create_bar_chart', call_id='call_jDmwQOQw1uqW8KqxrAj2EyZ9', is_error=False)], type='ToolCallExecutionEvent'), ToolCallSummaryMessage(source='Data_visualization', models_usage=None, metadata={}, created_at=datetime.datetime(2025, 6, 16, 12, 26, 27, 47981, tzinfo=datetime.timezone.utc), content=\"{'status': 'success', 'plot_path': 'plots/bar_chart_20250616_175626.png', 'absolute_path': 'd:\\\\\\\\AutoInsight-AI\\\\\\\\notebook\\\\\\\\plots\\\\\\\\bar_chart_20250616_175626.png'}\", type='ToolCallSummaryMessage', tool_calls=[FunctionCall(id='call_jDmwQOQw1uqW8KqxrAj2EyZ9', arguments='{\"data\":[[\"Item A\",7],[\"Item B\",4],[\"Item C\",2],[\"Item D\",2],[\"Item E\",2],[\"Item F\",2],[\"Item G\",2],[\"Item H\",1],[\"Item I\",1],[\"Item J\",1]],\"title\":\"Top Sale Items By Name\",\"color\":\"skyblue\",\"xlabel\":\"Item Names\",\"ylabel\":\"Sales Count\"}', name='create_bar_chart')], results=[FunctionExecutionResult(content=\"{'status': 'success', 'plot_path': 'plots/bar_chart_20250616_175626.png', 'absolute_path': 'd:\\\\\\\\AutoInsight-AI\\\\\\\\notebook\\\\\\\\plots\\\\\\\\bar_chart_20250616_175626.png'}\", name='create_bar_chart', call_id='call_jDmwQOQw1uqW8KqxrAj2EyZ9', is_error=False)]), UserInputRequestedEvent(source='UserProxyAgent', models_usage=None, metadata={}, created_at=datetime.datetime(2025, 6, 16, 12, 26, 27, 871463, tzinfo=datetime.timezone.utc), request_id='f1b8362a-b103-47ee-9b96-943ecb3742a7', content='', type='UserInputRequestedEvent'), TextMessage(source='UserProxyAgent', models_usage=None, metadata={}, created_at=datetime.datetime(2025, 6, 16, 12, 26, 56, 294597, tzinfo=datetime.timezone.utc), content='give the name of items from database , ', type='TextMessage'), ToolCallRequestEvent(source='Database_enginer', models_usage=RequestUsage(prompt_tokens=0, completion_tokens=0), metadata={}, created_at=datetime.datetime(2025, 6, 16, 12, 26, 59, 988728, tzinfo=datetime.timezone.utc), content=[FunctionCall(id='call_rg3U3GAf0Q88riAhHGLMs7Ch', arguments='{\"query\":\"SELECT id, name FROM products WHERE id IN (6, 9, 11, 10, 8, 5, 3, 12, 7, 4);\"}', name='sql_db_query')], type='ToolCallRequestEvent'), ToolCallExecutionEvent(source='Database_enginer', models_usage=None, metadata={}, created_at=datetime.datetime(2025, 6, 16, 12, 26, 59, 993738, tzinfo=datetime.timezone.utc), content=[FunctionExecutionResult(content='Error: (sqlite3.OperationalError) no such column: id\\n[SQL: SELECT id, name FROM products WHERE id IN (6, 9, 11, 10, 8, 5, 3, 12, 7, 4);]\\n(Background on this error at: https://sqlalche.me/e/20/e3q8)', name='sql_db_query', call_id='call_rg3U3GAf0Q88riAhHGLMs7Ch', is_error=False)], type='ToolCallExecutionEvent'), ToolCallSummaryMessage(source='Database_enginer', models_usage=None, metadata={}, created_at=datetime.datetime(2025, 6, 16, 12, 26, 59, 994726, tzinfo=datetime.timezone.utc), content='Error: (sqlite3.OperationalError) no such column: id\\n[SQL: SELECT id, name FROM products WHERE id IN (6, 9, 11, 10, 8, 5, 3, 12, 7, 4);]\\n(Background on this error at: https://sqlalche.me/e/20/e3q8)', type='ToolCallSummaryMessage', tool_calls=[FunctionCall(id='call_rg3U3GAf0Q88riAhHGLMs7Ch', arguments='{\"query\":\"SELECT id, name FROM products WHERE id IN (6, 9, 11, 10, 8, 5, 3, 12, 7, 4);\"}', name='sql_db_query')], results=[FunctionExecutionResult(content='Error: (sqlite3.OperationalError) no such column: id\\n[SQL: SELECT id, name FROM products WHERE id IN (6, 9, 11, 10, 8, 5, 3, 12, 7, 4);]\\n(Background on this error at: https://sqlalche.me/e/20/e3q8)', name='sql_db_query', call_id='call_rg3U3GAf0Q88riAhHGLMs7Ch', is_error=False)]), UserInputRequestedEvent(source='UserProxyAgent', models_usage=None, metadata={}, created_at=datetime.datetime(2025, 6, 16, 12, 27, 3, 389354, tzinfo=datetime.timezone.utc), request_id='30344d21-3d0f-4d29-8718-ca3fd035ed6d', content='', type='UserInputRequestedEvent'), TextMessage(source='UserProxyAgent', models_usage=None, metadata={}, created_at=datetime.datetime(2025, 6, 16, 12, 27, 12, 772123, tzinfo=datetime.timezone.utc), content='retry ', type='TextMessage'), ToolCallRequestEvent(source='Database_enginer', models_usage=RequestUsage(prompt_tokens=0, completion_tokens=0), metadata={}, created_at=datetime.datetime(2025, 6, 16, 12, 27, 15, 27815, tzinfo=datetime.timezone.utc), content=[FunctionCall(id='call_TCI9zFewAMEhuMUDOGk55nOk', arguments='{\"table_names\":\"products\"}', name='sql_db_schema')], type='ToolCallRequestEvent'), ToolCallExecutionEvent(source='Database_enginer', models_usage=None, metadata={}, created_at=datetime.datetime(2025, 6, 16, 12, 27, 15, 32462, tzinfo=datetime.timezone.utc), content=[FunctionExecutionResult(content='\\nCREATE TABLE products (\\n\\tproduct_id INTEGER, \\n\\tproduct_name TEXT NOT NULL, \\n\\tcategory TEXT, \\n\\tprice DECIMAL(10, 2), \\n\\tstock_quantity INTEGER, \\n\\tsupplier_id INTEGER, \\n\\trating DECIMAL(3, 2), \\n\\tPRIMARY KEY (product_id)\\n)\\n\\n/*\\n3 rows from products table:\\nproduct_id\\tproduct_name\\tcategory\\tprice\\tstock_quantity\\tsupplier_id\\trating\\n1\\tLaptop\\tElectronics\\t999.99\\t50\\t1\\t4.50\\n2\\tSmartphone\\tElectronics\\t699.99\\t100\\t1\\t4.30\\n3\\tHeadphones\\tElectronics\\t199.99\\t75\\t2\\t4.10\\n*/', name='sql_db_schema', call_id='call_TCI9zFewAMEhuMUDOGk55nOk', is_error=False)], type='ToolCallExecutionEvent'), ToolCallSummaryMessage(source='Database_enginer', models_usage=None, metadata={}, created_at=datetime.datetime(2025, 6, 16, 12, 27, 15, 33484, tzinfo=datetime.timezone.utc), content='\\nCREATE TABLE products (\\n\\tproduct_id INTEGER, \\n\\tproduct_name TEXT NOT NULL, \\n\\tcategory TEXT, \\n\\tprice DECIMAL(10, 2), \\n\\tstock_quantity INTEGER, \\n\\tsupplier_id INTEGER, \\n\\trating DECIMAL(3, 2), \\n\\tPRIMARY KEY (product_id)\\n)\\n\\n/*\\n3 rows from products table:\\nproduct_id\\tproduct_name\\tcategory\\tprice\\tstock_quantity\\tsupplier_id\\trating\\n1\\tLaptop\\tElectronics\\t999.99\\t50\\t1\\t4.50\\n2\\tSmartphone\\tElectronics\\t699.99\\t100\\t1\\t4.30\\n3\\tHeadphones\\tElectronics\\t199.99\\t75\\t2\\t4.10\\n*/', type='ToolCallSummaryMessage', tool_calls=[FunctionCall(id='call_TCI9zFewAMEhuMUDOGk55nOk', arguments='{\"table_names\":\"products\"}', name='sql_db_schema')], results=[FunctionExecutionResult(content='\\nCREATE TABLE products (\\n\\tproduct_id INTEGER, \\n\\tproduct_name TEXT NOT NULL, \\n\\tcategory TEXT, \\n\\tprice DECIMAL(10, 2), \\n\\tstock_quantity INTEGER, \\n\\tsupplier_id INTEGER, \\n\\trating DECIMAL(3, 2), \\n\\tPRIMARY KEY (product_id)\\n)\\n\\n/*\\n3 rows from products table:\\nproduct_id\\tproduct_name\\tcategory\\tprice\\tstock_quantity\\tsupplier_id\\trating\\n1\\tLaptop\\tElectronics\\t999.99\\t50\\t1\\t4.50\\n2\\tSmartphone\\tElectronics\\t699.99\\t100\\t1\\t4.30\\n3\\tHeadphones\\tElectronics\\t199.99\\t75\\t2\\t4.10\\n*/', name='sql_db_schema', call_id='call_TCI9zFewAMEhuMUDOGk55nOk', is_error=False)]), UserInputRequestedEvent(source='UserProxyAgent', models_usage=None, metadata={}, created_at=datetime.datetime(2025, 6, 16, 12, 27, 15, 563024, tzinfo=datetime.timezone.utc), request_id='5fc48118-f065-4e75-b860-4afcd345849a', content='', type='UserInputRequestedEvent'), TextMessage(source='UserProxyAgent', models_usage=None, metadata={}, created_at=datetime.datetime(2025, 6, 16, 12, 27, 22, 346125, tzinfo=datetime.timezone.utc), content=' ', type='TextMessage'), ToolCallRequestEvent(source='Database_enginer', models_usage=RequestUsage(prompt_tokens=0, completion_tokens=0), metadata={}, created_at=datetime.datetime(2025, 6, 16, 12, 27, 25, 105267, tzinfo=datetime.timezone.utc), content=[FunctionCall(id='call_ZbmTPIi9jaqf8u82IQUv2kYu', arguments='{\"query\":\"SELECT product_id, product_name FROM products WHERE product_id IN (6, 9, 11, 10, 8, 5, 3, 12, 7, 4);\"}', name='sql_db_query')], type='ToolCallRequestEvent'), ToolCallExecutionEvent(source='Database_enginer', models_usage=None, metadata={}, created_at=datetime.datetime(2025, 6, 16, 12, 27, 25, 113260, tzinfo=datetime.timezone.utc), content=[FunctionExecutionResult(content=\"[(3, 'Headphones'), (4, 'Coffee Maker'), (5, 'Organic Coffee'), (6, 'Wireless Mouse'), (7, 'Protein Bars'), (8, 'Tablet'), (9, 'Smart Watch'), (10, 'Blender'), (11, 'Yoga Mat'), (12, 'Gaming Chair')]\", name='sql_db_query', call_id='call_ZbmTPIi9jaqf8u82IQUv2kYu', is_error=False)], type='ToolCallExecutionEvent'), ToolCallSummaryMessage(source='Database_enginer', models_usage=None, metadata={}, created_at=datetime.datetime(2025, 6, 16, 12, 27, 25, 113260, tzinfo=datetime.timezone.utc), content=\"[(3, 'Headphones'), (4, 'Coffee Maker'), (5, 'Organic Coffee'), (6, 'Wireless Mouse'), (7, 'Protein Bars'), (8, 'Tablet'), (9, 'Smart Watch'), (10, 'Blender'), (11, 'Yoga Mat'), (12, 'Gaming Chair')]\", type='ToolCallSummaryMessage', tool_calls=[FunctionCall(id='call_ZbmTPIi9jaqf8u82IQUv2kYu', arguments='{\"query\":\"SELECT product_id, product_name FROM products WHERE product_id IN (6, 9, 11, 10, 8, 5, 3, 12, 7, 4);\"}', name='sql_db_query')], results=[FunctionExecutionResult(content=\"[(3, 'Headphones'), (4, 'Coffee Maker'), (5, 'Organic Coffee'), (6, 'Wireless Mouse'), (7, 'Protein Bars'), (8, 'Tablet'), (9, 'Smart Watch'), (10, 'Blender'), (11, 'Yoga Mat'), (12, 'Gaming Chair')]\", name='sql_db_query', call_id='call_ZbmTPIi9jaqf8u82IQUv2kYu', is_error=False)]), UserInputRequestedEvent(source='UserProxyAgent', models_usage=None, metadata={}, created_at=datetime.datetime(2025, 6, 16, 12, 27, 25, 858422, tzinfo=datetime.timezone.utc), request_id='a11ca985-f2fc-47e6-a92c-fbf8550a6ee5', content='', type='UserInputRequestedEvent'), TextMessage(source='UserProxyAgent', models_usage=None, metadata={}, created_at=datetime.datetime(2025, 6, 16, 12, 27, 44, 391534, tzinfo=datetime.timezone.utc), content='creata a simple graph ', type='TextMessage'), ToolCallRequestEvent(source='Data_visualization', models_usage=RequestUsage(prompt_tokens=0, completion_tokens=0), metadata={}, created_at=datetime.datetime(2025, 6, 16, 12, 27, 47, 551885, tzinfo=datetime.timezone.utc), content=[FunctionCall(id='call_ql5tRFr620RMOpbTU5wLde1k', arguments='{\"data\":[[\"Headphones\",3],[\"Coffee Maker\",4],[\"Organic Coffee\",5],[\"Wireless Mouse\",6],[\"Protein Bars\",7],[\"Tablet\",8],[\"Smart Watch\",9],[\"Blender\",10],[\"Yoga Mat\",11],[\"Gaming Chair\",12]],\"title\":\"Product List\",\"color\":\"skyblue\",\"xlabel\":\"Product Names\",\"ylabel\":\"Product ID\"}', name='create_bar_chart')], type='ToolCallRequestEvent'), ToolCallExecutionEvent(source='Data_visualization', models_usage=None, metadata={}, created_at=datetime.datetime(2025, 6, 16, 12, 27, 48, 163409, tzinfo=datetime.timezone.utc), content=[FunctionExecutionResult(content=\"{'status': 'success', 'plot_path': 'plots/bar_chart_20250616_175747.png', 'absolute_path': 'd:\\\\\\\\AutoInsight-AI\\\\\\\\notebook\\\\\\\\plots\\\\\\\\bar_chart_20250616_175747.png'}\", name='create_bar_chart', call_id='call_ql5tRFr620RMOpbTU5wLde1k', is_error=False)], type='ToolCallExecutionEvent'), ToolCallSummaryMessage(source='Data_visualization', models_usage=None, metadata={}, created_at=datetime.datetime(2025, 6, 16, 12, 27, 48, 163409, tzinfo=datetime.timezone.utc), content=\"{'status': 'success', 'plot_path': 'plots/bar_chart_20250616_175747.png', 'absolute_path': 'd:\\\\\\\\AutoInsight-AI\\\\\\\\notebook\\\\\\\\plots\\\\\\\\bar_chart_20250616_175747.png'}\", type='ToolCallSummaryMessage', tool_calls=[FunctionCall(id='call_ql5tRFr620RMOpbTU5wLde1k', arguments='{\"data\":[[\"Headphones\",3],[\"Coffee Maker\",4],[\"Organic Coffee\",5],[\"Wireless Mouse\",6],[\"Protein Bars\",7],[\"Tablet\",8],[\"Smart Watch\",9],[\"Blender\",10],[\"Yoga Mat\",11],[\"Gaming Chair\",12]],\"title\":\"Product List\",\"color\":\"skyblue\",\"xlabel\":\"Product Names\",\"ylabel\":\"Product ID\"}', name='create_bar_chart')], results=[FunctionExecutionResult(content=\"{'status': 'success', 'plot_path': 'plots/bar_chart_20250616_175747.png', 'absolute_path': 'd:\\\\\\\\AutoInsight-AI\\\\\\\\notebook\\\\\\\\plots\\\\\\\\bar_chart_20250616_175747.png'}\", name='create_bar_chart', call_id='call_ql5tRFr620RMOpbTU5wLde1k', is_error=False)]), UserInputRequestedEvent(source='UserProxyAgent', models_usage=None, metadata={}, created_at=datetime.datetime(2025, 6, 16, 12, 27, 49, 146170, tzinfo=datetime.timezone.utc), request_id='3c9591c6-ae59-4f76-81c7-3cd5a6404d30', content='', type='UserInputRequestedEvent'), TextMessage(source='UserProxyAgent', models_usage=None, metadata={}, created_at=datetime.datetime(2025, 6, 16, 12, 28, 5, 174221, tzinfo=datetime.timezone.utc), content='TERMINATE', type='TextMessage')] "
   ]
  },
  {
   "cell_type": "code",
   "execution_count": null,
   "id": "2d49078f",
   "metadata": {},
   "outputs": [
    {
     "data": {
      "text/plain": [
       "31"
      ]
     },
     "execution_count": 5,
     "metadata": {},
     "output_type": "execute_result"
    }
   ],
   "source": [
    "len(messages)"
   ]
  },
  {
   "cell_type": "code",
   "execution_count": 44,
   "id": "83881c24",
   "metadata": {},
   "outputs": [
    {
     "name": "stdout",
     "output_type": "stream",
     "text": [
      "source='user' models_usage=None metadata={} created_at=datetime.datetime(2025, 6, 16, 12, 26, 2, 951617, tzinfo=datetime.timezone.utc) content='give me list of name os items' type='TextMessage'\n",
      "+++++\n",
      "source='Database_enginer' models_usage=RequestUsage(prompt_tokens=0, completion_tokens=0) metadata={} created_at=datetime.datetime(2025, 6, 16, 12, 26, 5, 377546, tzinfo=datetime.timezone.utc) content=[FunctionCall(id='call_4LcHcr6peDVyoIXQ88CXT099', arguments='{\"query\":\"SELECT id, name FROM products WHERE id IN (6, 9, 11, 10, 8, 5, 3, 12, 7, 4);\"}', name='sql_db_query_checker')] type='ToolCallRequestEvent'\n",
      "+++++\n",
      "source='Database_enginer' models_usage=None metadata={} created_at=datetime.datetime(2025, 6, 16, 12, 26, 6, 999043, tzinfo=datetime.timezone.utc) content=[FunctionExecutionResult(content='SELECT id, name FROM products WHERE id IN (6, 9, 11, 10, 8, 5, 3, 12, 7, 4);', name='sql_db_query_checker', call_id='call_4LcHcr6peDVyoIXQ88CXT099', is_error=False)] type='ToolCallExecutionEvent'\n",
      "+++++\n",
      "source='Database_enginer' models_usage=None metadata={} created_at=datetime.datetime(2025, 6, 16, 12, 26, 6, 999043, tzinfo=datetime.timezone.utc) content='SELECT id, name FROM products WHERE id IN (6, 9, 11, 10, 8, 5, 3, 12, 7, 4);' type='ToolCallSummaryMessage' tool_calls=[FunctionCall(id='call_4LcHcr6peDVyoIXQ88CXT099', arguments='{\"query\":\"SELECT id, name FROM products WHERE id IN (6, 9, 11, 10, 8, 5, 3, 12, 7, 4);\"}', name='sql_db_query_checker')] results=[FunctionExecutionResult(content='SELECT id, name FROM products WHERE id IN (6, 9, 11, 10, 8, 5, 3, 12, 7, 4);', name='sql_db_query_checker', call_id='call_4LcHcr6peDVyoIXQ88CXT099', is_error=False)]\n",
      "+++++\n",
      "source='UserProxyAgent' models_usage=None metadata={} created_at=datetime.datetime(2025, 6, 16, 12, 26, 8, 34472, tzinfo=datetime.timezone.utc) request_id='616f4bbb-5549-4a75-9582-d76d9b459763' content='' type='UserInputRequestedEvent'\n",
      "+++++\n",
      "source='UserProxyAgent' models_usage=None metadata={} created_at=datetime.datetime(2025, 6, 16, 12, 26, 23, 272736, tzinfo=datetime.timezone.utc) content='go ' type='TextMessage'\n",
      "+++++\n",
      "source='Data_visualization' models_usage=RequestUsage(prompt_tokens=0, completion_tokens=0) metadata={} created_at=datetime.datetime(2025, 6, 16, 12, 26, 26, 495813, tzinfo=datetime.timezone.utc) content=[FunctionCall(id='call_jDmwQOQw1uqW8KqxrAj2EyZ9', arguments='{\"data\":[[\"Item A\",7],[\"Item B\",4],[\"Item C\",2],[\"Item D\",2],[\"Item E\",2],[\"Item F\",2],[\"Item G\",2],[\"Item H\",1],[\"Item I\",1],[\"Item J\",1]],\"title\":\"Top Sale Items By Name\",\"color\":\"skyblue\",\"xlabel\":\"Item Names\",\"ylabel\":\"Sales Count\"}', name='create_bar_chart')] type='ToolCallRequestEvent'\n",
      "+++++\n",
      "source='Data_visualization' models_usage=None metadata={} created_at=datetime.datetime(2025, 6, 16, 12, 26, 27, 47981, tzinfo=datetime.timezone.utc) content=[FunctionExecutionResult(content=\"{'status': 'success', 'plot_path': 'plots/bar_chart_20250616_175626.png', 'absolute_path': 'd:\\\\\\\\AutoInsight-AI\\\\\\\\notebook\\\\\\\\plots\\\\\\\\bar_chart_20250616_175626.png'}\", name='create_bar_chart', call_id='call_jDmwQOQw1uqW8KqxrAj2EyZ9', is_error=False)] type='ToolCallExecutionEvent'\n",
      "+++++\n",
      "source='Data_visualization' models_usage=None metadata={} created_at=datetime.datetime(2025, 6, 16, 12, 26, 27, 47981, tzinfo=datetime.timezone.utc) content=\"{'status': 'success', 'plot_path': 'plots/bar_chart_20250616_175626.png', 'absolute_path': 'd:\\\\\\\\AutoInsight-AI\\\\\\\\notebook\\\\\\\\plots\\\\\\\\bar_chart_20250616_175626.png'}\" type='ToolCallSummaryMessage' tool_calls=[FunctionCall(id='call_jDmwQOQw1uqW8KqxrAj2EyZ9', arguments='{\"data\":[[\"Item A\",7],[\"Item B\",4],[\"Item C\",2],[\"Item D\",2],[\"Item E\",2],[\"Item F\",2],[\"Item G\",2],[\"Item H\",1],[\"Item I\",1],[\"Item J\",1]],\"title\":\"Top Sale Items By Name\",\"color\":\"skyblue\",\"xlabel\":\"Item Names\",\"ylabel\":\"Sales Count\"}', name='create_bar_chart')] results=[FunctionExecutionResult(content=\"{'status': 'success', 'plot_path': 'plots/bar_chart_20250616_175626.png', 'absolute_path': 'd:\\\\\\\\AutoInsight-AI\\\\\\\\notebook\\\\\\\\plots\\\\\\\\bar_chart_20250616_175626.png'}\", name='create_bar_chart', call_id='call_jDmwQOQw1uqW8KqxrAj2EyZ9', is_error=False)]\n",
      "+++++\n",
      "source='UserProxyAgent' models_usage=None metadata={} created_at=datetime.datetime(2025, 6, 16, 12, 26, 27, 871463, tzinfo=datetime.timezone.utc) request_id='f1b8362a-b103-47ee-9b96-943ecb3742a7' content='' type='UserInputRequestedEvent'\n",
      "+++++\n"
     ]
    }
   ],
   "source": [
    "for i in messages[:10]:\n",
    "    print(i)\n",
    "    print(\"+++++\")"
   ]
  },
  {
   "cell_type": "code",
   "execution_count": 8,
   "id": "6d471b35",
   "metadata": {},
   "outputs": [],
   "source": [
    "messages1=messages[0]\n",
    "messages2=messages[1]\n",
    "messages3=messages[2]\n",
    "messages4=messages[3]"
   ]
  },
  {
   "cell_type": "code",
   "execution_count": 25,
   "id": "92fc16e1",
   "metadata": {},
   "outputs": [
    {
     "data": {
      "text/plain": [
       "TextMessage(source='user', models_usage=None, metadata={}, created_at=datetime.datetime(2025, 6, 16, 12, 26, 2, 951617, tzinfo=datetime.timezone.utc), content='give me list of name os items', type='TextMessage')"
      ]
     },
     "execution_count": 25,
     "metadata": {},
     "output_type": "execute_result"
    }
   ],
   "source": [
    "messages1"
   ]
  },
  {
   "cell_type": "code",
   "execution_count": 10,
   "id": "1e056751",
   "metadata": {},
   "outputs": [
    {
     "data": {
      "text/plain": [
       "'user'"
      ]
     },
     "execution_count": 10,
     "metadata": {},
     "output_type": "execute_result"
    }
   ],
   "source": [
    "messages1.source"
   ]
  },
  {
   "cell_type": "code",
   "execution_count": 12,
   "id": "4d12ead5",
   "metadata": {},
   "outputs": [
    {
     "data": {
      "text/plain": [
       "'give me list of name os items'"
      ]
     },
     "execution_count": 12,
     "metadata": {},
     "output_type": "execute_result"
    }
   ],
   "source": [
    "messages1.content"
   ]
  },
  {
   "cell_type": "code",
   "execution_count": 26,
   "id": "afbbb7b1",
   "metadata": {},
   "outputs": [
    {
     "data": {
      "text/plain": [
       "ToolCallRequestEvent(source='Database_enginer', models_usage=RequestUsage(prompt_tokens=0, completion_tokens=0), metadata={}, created_at=datetime.datetime(2025, 6, 16, 12, 26, 5, 377546, tzinfo=datetime.timezone.utc), content=[FunctionCall(id='call_4LcHcr6peDVyoIXQ88CXT099', arguments='{\"query\":\"SELECT id, name FROM products WHERE id IN (6, 9, 11, 10, 8, 5, 3, 12, 7, 4);\"}', name='sql_db_query_checker')], type='ToolCallRequestEvent')"
      ]
     },
     "execution_count": 26,
     "metadata": {},
     "output_type": "execute_result"
    }
   ],
   "source": [
    "messages2"
   ]
  },
  {
   "cell_type": "code",
   "execution_count": 13,
   "id": "efe2e6b8",
   "metadata": {},
   "outputs": [
    {
     "data": {
      "text/plain": [
       "'Database_enginer'"
      ]
     },
     "execution_count": 13,
     "metadata": {},
     "output_type": "execute_result"
    }
   ],
   "source": [
    "messages2.source"
   ]
  },
  {
   "cell_type": "code",
   "execution_count": 15,
   "id": "993ebae4",
   "metadata": {},
   "outputs": [
    {
     "name": "stdout",
     "output_type": "stream",
     "text": [
      "FunctionCall(id='call_4LcHcr6peDVyoIXQ88CXT099', arguments='{\"query\":\"SELECT id, name FROM products WHERE id IN (6, 9, 11, 10, 8, 5, 3, 12, 7, 4);\"}', name='sql_db_query_checker')\n"
     ]
    }
   ],
   "source": [
    "for i in messages2.content:\n",
    "    print(i)"
   ]
  },
  {
   "cell_type": "code",
   "execution_count": 19,
   "id": "21a8f28b",
   "metadata": {},
   "outputs": [
    {
     "data": {
      "text/plain": [
       "'sql_db_query_checker'"
      ]
     },
     "execution_count": 19,
     "metadata": {},
     "output_type": "execute_result"
    }
   ],
   "source": [
    "messages2.content[0].name"
   ]
  },
  {
   "cell_type": "code",
   "execution_count": 21,
   "id": "d7b3a18c",
   "metadata": {},
   "outputs": [
    {
     "data": {
      "text/plain": [
       "'{\"query\":\"SELECT id, name FROM products WHERE id IN (6, 9, 11, 10, 8, 5, 3, 12, 7, 4);\"}'"
      ]
     },
     "execution_count": 21,
     "metadata": {},
     "output_type": "execute_result"
    }
   ],
   "source": [
    "messages2.content[0].arguments"
   ]
  },
  {
   "cell_type": "code",
   "execution_count": 28,
   "id": "96cff195",
   "metadata": {},
   "outputs": [
    {
     "data": {
      "text/plain": [
       "ToolCallExecutionEvent(source='Database_enginer', models_usage=None, metadata={}, created_at=datetime.datetime(2025, 6, 16, 12, 26, 6, 999043, tzinfo=datetime.timezone.utc), content=[FunctionExecutionResult(content='SELECT id, name FROM products WHERE id IN (6, 9, 11, 10, 8, 5, 3, 12, 7, 4);', name='sql_db_query_checker', call_id='call_4LcHcr6peDVyoIXQ88CXT099', is_error=False)], type='ToolCallExecutionEvent')"
      ]
     },
     "execution_count": 28,
     "metadata": {},
     "output_type": "execute_result"
    }
   ],
   "source": [
    "messages3"
   ]
  },
  {
   "cell_type": "code",
   "execution_count": 29,
   "id": "538df7ab",
   "metadata": {},
   "outputs": [
    {
     "data": {
      "text/plain": [
       "'Database_enginer'"
      ]
     },
     "execution_count": 29,
     "metadata": {},
     "output_type": "execute_result"
    }
   ],
   "source": [
    "messages3.source "
   ]
  },
  {
   "cell_type": "code",
   "execution_count": 30,
   "id": "451a37ec",
   "metadata": {},
   "outputs": [
    {
     "data": {
      "text/plain": [
       "[FunctionExecutionResult(content='SELECT id, name FROM products WHERE id IN (6, 9, 11, 10, 8, 5, 3, 12, 7, 4);', name='sql_db_query_checker', call_id='call_4LcHcr6peDVyoIXQ88CXT099', is_error=False)]"
      ]
     },
     "execution_count": 30,
     "metadata": {},
     "output_type": "execute_result"
    }
   ],
   "source": [
    "messages3.content"
   ]
  },
  {
   "cell_type": "code",
   "execution_count": 33,
   "id": "a74670bf",
   "metadata": {},
   "outputs": [
    {
     "data": {
      "text/plain": [
       "'sql_db_query_checker'"
      ]
     },
     "execution_count": 33,
     "metadata": {},
     "output_type": "execute_result"
    }
   ],
   "source": [
    "messages3.content[0].name"
   ]
  },
  {
   "cell_type": "code",
   "execution_count": 38,
   "id": "18fee0ae",
   "metadata": {},
   "outputs": [
    {
     "data": {
      "text/plain": [
       "ToolCallSummaryMessage(source='Database_enginer', models_usage=None, metadata={}, created_at=datetime.datetime(2025, 6, 16, 12, 26, 6, 999043, tzinfo=datetime.timezone.utc), content='SELECT id, name FROM products WHERE id IN (6, 9, 11, 10, 8, 5, 3, 12, 7, 4);', type='ToolCallSummaryMessage', tool_calls=[FunctionCall(id='call_4LcHcr6peDVyoIXQ88CXT099', arguments='{\"query\":\"SELECT id, name FROM products WHERE id IN (6, 9, 11, 10, 8, 5, 3, 12, 7, 4);\"}', name='sql_db_query_checker')], results=[FunctionExecutionResult(content='SELECT id, name FROM products WHERE id IN (6, 9, 11, 10, 8, 5, 3, 12, 7, 4);', name='sql_db_query_checker', call_id='call_4LcHcr6peDVyoIXQ88CXT099', is_error=False)])"
      ]
     },
     "execution_count": 38,
     "metadata": {},
     "output_type": "execute_result"
    }
   ],
   "source": [
    "messages4"
   ]
  },
  {
   "cell_type": "code",
   "execution_count": 39,
   "id": "26039bc8",
   "metadata": {},
   "outputs": [
    {
     "data": {
      "text/plain": [
       "'Database_enginer'"
      ]
     },
     "execution_count": 39,
     "metadata": {},
     "output_type": "execute_result"
    }
   ],
   "source": [
    "messages4.source"
   ]
  },
  {
   "cell_type": "code",
   "execution_count": 41,
   "id": "4b000ff9",
   "metadata": {},
   "outputs": [
    {
     "data": {
      "text/plain": [
       "'SELECT id, name FROM products WHERE id IN (6, 9, 11, 10, 8, 5, 3, 12, 7, 4);'"
      ]
     },
     "execution_count": 41,
     "metadata": {},
     "output_type": "execute_result"
    }
   ],
   "source": [
    "messages4.content"
   ]
  },
  {
   "cell_type": "code",
   "execution_count": 43,
   "id": "dcdd4e03",
   "metadata": {},
   "outputs": [
    {
     "data": {
      "text/plain": [
       "[FunctionCall(id='call_4LcHcr6peDVyoIXQ88CXT099', arguments='{\"query\":\"SELECT id, name FROM products WHERE id IN (6, 9, 11, 10, 8, 5, 3, 12, 7, 4);\"}', name='sql_db_query_checker')]"
      ]
     },
     "execution_count": 43,
     "metadata": {},
     "output_type": "execute_result"
    }
   ],
   "source": [
    "messages4.tool_calls"
   ]
  },
  {
   "cell_type": "code",
   "execution_count": 42,
   "id": "678cbdbe",
   "metadata": {},
   "outputs": [
    {
     "data": {
      "text/plain": [
       "[FunctionExecutionResult(content='SELECT id, name FROM products WHERE id IN (6, 9, 11, 10, 8, 5, 3, 12, 7, 4);', name='sql_db_query_checker', call_id='call_4LcHcr6peDVyoIXQ88CXT099', is_error=False)]"
      ]
     },
     "execution_count": 42,
     "metadata": {},
     "output_type": "execute_result"
    }
   ],
   "source": [
    "messages4.results"
   ]
  },
  {
   "cell_type": "code",
   "execution_count": null,
   "id": "30ef9cce",
   "metadata": {},
   "outputs": [],
   "source": []
  },
  {
   "cell_type": "code",
   "execution_count": null,
   "id": "a7cc076d",
   "metadata": {},
   "outputs": [],
   "source": []
  },
  {
   "cell_type": "code",
   "execution_count": 34,
   "id": "df533150",
   "metadata": {},
   "outputs": [
    {
     "data": {
      "text/plain": [
       "TextMessage(source='user', models_usage=None, metadata={}, created_at=datetime.datetime(2025, 6, 16, 12, 26, 2, 951617, tzinfo=datetime.timezone.utc), content='give me list of name os items', type='TextMessage')"
      ]
     },
     "execution_count": 34,
     "metadata": {},
     "output_type": "execute_result"
    }
   ],
   "source": [
    "messages1"
   ]
  },
  {
   "cell_type": "code",
   "execution_count": 35,
   "id": "280d65cf",
   "metadata": {},
   "outputs": [
    {
     "data": {
      "text/plain": [
       "ToolCallRequestEvent(source='Database_enginer', models_usage=RequestUsage(prompt_tokens=0, completion_tokens=0), metadata={}, created_at=datetime.datetime(2025, 6, 16, 12, 26, 5, 377546, tzinfo=datetime.timezone.utc), content=[FunctionCall(id='call_4LcHcr6peDVyoIXQ88CXT099', arguments='{\"query\":\"SELECT id, name FROM products WHERE id IN (6, 9, 11, 10, 8, 5, 3, 12, 7, 4);\"}', name='sql_db_query_checker')], type='ToolCallRequestEvent')"
      ]
     },
     "execution_count": 35,
     "metadata": {},
     "output_type": "execute_result"
    }
   ],
   "source": [
    "messages2"
   ]
  },
  {
   "cell_type": "code",
   "execution_count": 36,
   "id": "f8e13118",
   "metadata": {},
   "outputs": [
    {
     "data": {
      "text/plain": [
       "ToolCallExecutionEvent(source='Database_enginer', models_usage=None, metadata={}, created_at=datetime.datetime(2025, 6, 16, 12, 26, 6, 999043, tzinfo=datetime.timezone.utc), content=[FunctionExecutionResult(content='SELECT id, name FROM products WHERE id IN (6, 9, 11, 10, 8, 5, 3, 12, 7, 4);', name='sql_db_query_checker', call_id='call_4LcHcr6peDVyoIXQ88CXT099', is_error=False)], type='ToolCallExecutionEvent')"
      ]
     },
     "execution_count": 36,
     "metadata": {},
     "output_type": "execute_result"
    }
   ],
   "source": [
    "messages3"
   ]
  },
  {
   "cell_type": "code",
   "execution_count": 37,
   "id": "a032496c",
   "metadata": {},
   "outputs": [
    {
     "data": {
      "text/plain": [
       "ToolCallSummaryMessage(source='Database_enginer', models_usage=None, metadata={}, created_at=datetime.datetime(2025, 6, 16, 12, 26, 6, 999043, tzinfo=datetime.timezone.utc), content='SELECT id, name FROM products WHERE id IN (6, 9, 11, 10, 8, 5, 3, 12, 7, 4);', type='ToolCallSummaryMessage', tool_calls=[FunctionCall(id='call_4LcHcr6peDVyoIXQ88CXT099', arguments='{\"query\":\"SELECT id, name FROM products WHERE id IN (6, 9, 11, 10, 8, 5, 3, 12, 7, 4);\"}', name='sql_db_query_checker')], results=[FunctionExecutionResult(content='SELECT id, name FROM products WHERE id IN (6, 9, 11, 10, 8, 5, 3, 12, 7, 4);', name='sql_db_query_checker', call_id='call_4LcHcr6peDVyoIXQ88CXT099', is_error=False)])"
      ]
     },
     "execution_count": 37,
     "metadata": {},
     "output_type": "execute_result"
    }
   ],
   "source": [
    "messages4"
   ]
  },
  {
   "cell_type": "code",
   "execution_count": 49,
   "id": "6f9f6425",
   "metadata": {},
   "outputs": [],
   "source": [
    "messages6=messages[6]\n",
    "messages7=messages[7]\n",
    "messages8=messages[8]"
   ]
  },
  {
   "cell_type": "code",
   "execution_count": 50,
   "id": "c48cd0f7",
   "metadata": {},
   "outputs": [
    {
     "data": {
      "text/plain": [
       "ToolCallRequestEvent(source='Data_visualization', models_usage=RequestUsage(prompt_tokens=0, completion_tokens=0), metadata={}, created_at=datetime.datetime(2025, 6, 16, 12, 26, 26, 495813, tzinfo=datetime.timezone.utc), content=[FunctionCall(id='call_jDmwQOQw1uqW8KqxrAj2EyZ9', arguments='{\"data\":[[\"Item A\",7],[\"Item B\",4],[\"Item C\",2],[\"Item D\",2],[\"Item E\",2],[\"Item F\",2],[\"Item G\",2],[\"Item H\",1],[\"Item I\",1],[\"Item J\",1]],\"title\":\"Top Sale Items By Name\",\"color\":\"skyblue\",\"xlabel\":\"Item Names\",\"ylabel\":\"Sales Count\"}', name='create_bar_chart')], type='ToolCallRequestEvent')"
      ]
     },
     "execution_count": 50,
     "metadata": {},
     "output_type": "execute_result"
    }
   ],
   "source": [
    "messages6"
   ]
  },
  {
   "cell_type": "code",
   "execution_count": 51,
   "id": "7169304e",
   "metadata": {},
   "outputs": [
    {
     "data": {
      "text/plain": [
       "ToolCallExecutionEvent(source='Data_visualization', models_usage=None, metadata={}, created_at=datetime.datetime(2025, 6, 16, 12, 26, 27, 47981, tzinfo=datetime.timezone.utc), content=[FunctionExecutionResult(content=\"{'status': 'success', 'plot_path': 'plots/bar_chart_20250616_175626.png', 'absolute_path': 'd:\\\\\\\\AutoInsight-AI\\\\\\\\notebook\\\\\\\\plots\\\\\\\\bar_chart_20250616_175626.png'}\", name='create_bar_chart', call_id='call_jDmwQOQw1uqW8KqxrAj2EyZ9', is_error=False)], type='ToolCallExecutionEvent')"
      ]
     },
     "execution_count": 51,
     "metadata": {},
     "output_type": "execute_result"
    }
   ],
   "source": [
    "messages7"
   ]
  },
  {
   "cell_type": "code",
   "execution_count": 52,
   "id": "e0fc8c8e",
   "metadata": {},
   "outputs": [
    {
     "data": {
      "text/plain": [
       "ToolCallSummaryMessage(source='Data_visualization', models_usage=None, metadata={}, created_at=datetime.datetime(2025, 6, 16, 12, 26, 27, 47981, tzinfo=datetime.timezone.utc), content=\"{'status': 'success', 'plot_path': 'plots/bar_chart_20250616_175626.png', 'absolute_path': 'd:\\\\\\\\AutoInsight-AI\\\\\\\\notebook\\\\\\\\plots\\\\\\\\bar_chart_20250616_175626.png'}\", type='ToolCallSummaryMessage', tool_calls=[FunctionCall(id='call_jDmwQOQw1uqW8KqxrAj2EyZ9', arguments='{\"data\":[[\"Item A\",7],[\"Item B\",4],[\"Item C\",2],[\"Item D\",2],[\"Item E\",2],[\"Item F\",2],[\"Item G\",2],[\"Item H\",1],[\"Item I\",1],[\"Item J\",1]],\"title\":\"Top Sale Items By Name\",\"color\":\"skyblue\",\"xlabel\":\"Item Names\",\"ylabel\":\"Sales Count\"}', name='create_bar_chart')], results=[FunctionExecutionResult(content=\"{'status': 'success', 'plot_path': 'plots/bar_chart_20250616_175626.png', 'absolute_path': 'd:\\\\\\\\AutoInsight-AI\\\\\\\\notebook\\\\\\\\plots\\\\\\\\bar_chart_20250616_175626.png'}\", name='create_bar_chart', call_id='call_jDmwQOQw1uqW8KqxrAj2EyZ9', is_error=False)])"
      ]
     },
     "execution_count": 52,
     "metadata": {},
     "output_type": "execute_result"
    }
   ],
   "source": [
    "messages8"
   ]
  },
  {
   "cell_type": "code",
   "execution_count": 53,
   "id": "3f336793",
   "metadata": {},
   "outputs": [
    {
     "data": {
      "text/plain": [
       "'Data_visualization'"
      ]
     },
     "execution_count": 53,
     "metadata": {},
     "output_type": "execute_result"
    }
   ],
   "source": [
    "messages8.source"
   ]
  },
  {
   "cell_type": "code",
   "execution_count": 54,
   "id": "345fe010",
   "metadata": {},
   "outputs": [
    {
     "data": {
      "text/plain": [
       "\"{'status': 'success', 'plot_path': 'plots/bar_chart_20250616_175626.png', 'absolute_path': 'd:\\\\\\\\AutoInsight-AI\\\\\\\\notebook\\\\\\\\plots\\\\\\\\bar_chart_20250616_175626.png'}\""
      ]
     },
     "execution_count": 54,
     "metadata": {},
     "output_type": "execute_result"
    }
   ],
   "source": [
    "messages8.content"
   ]
  },
  {
   "cell_type": "code",
   "execution_count": 55,
   "id": "6f0182fe",
   "metadata": {},
   "outputs": [
    {
     "data": {
      "text/plain": [
       "'ToolCallSummaryMessage'"
      ]
     },
     "execution_count": 55,
     "metadata": {},
     "output_type": "execute_result"
    }
   ],
   "source": [
    "messages8.type"
   ]
  },
  {
   "cell_type": "code",
   "execution_count": null,
   "id": "2905d57d",
   "metadata": {},
   "outputs": [
    {
     "data": {
      "text/plain": [
       "[FunctionExecutionResult(content=\"{'status': 'success', 'plot_path': 'plots/bar_chart_20250616_175626.png', 'absolute_path': 'd:\\\\\\\\AutoInsight-AI\\\\\\\\notebook\\\\\\\\plots\\\\\\\\bar_chart_20250616_175626.png'}\", name='create_bar_chart', call_id='call_jDmwQOQw1uqW8KqxrAj2EyZ9', is_error=False)]"
      ]
     },
     "execution_count": 57,
     "metadata": {},
     "output_type": "execute_result"
    }
   ],
   "source": [
    "messages8.tool_calls"
   ]
  },
  {
   "cell_type": "code",
   "execution_count": 58,
   "id": "d959a512",
   "metadata": {},
   "outputs": [
    {
     "data": {
      "text/plain": [
       "[FunctionExecutionResult(content=\"{'status': 'success', 'plot_path': 'plots/bar_chart_20250616_175626.png', 'absolute_path': 'd:\\\\\\\\AutoInsight-AI\\\\\\\\notebook\\\\\\\\plots\\\\\\\\bar_chart_20250616_175626.png'}\", name='create_bar_chart', call_id='call_jDmwQOQw1uqW8KqxrAj2EyZ9', is_error=False)]"
      ]
     },
     "execution_count": 58,
     "metadata": {},
     "output_type": "execute_result"
    }
   ],
   "source": [
    "messages8.results"
   ]
  },
  {
   "cell_type": "code",
   "execution_count": 63,
   "id": "4d4486e1",
   "metadata": {},
   "outputs": [
    {
     "data": {
      "text/plain": [
       "'create_bar_chart'"
      ]
     },
     "execution_count": 63,
     "metadata": {},
     "output_type": "execute_result"
    }
   ],
   "source": [
    "messages8.results[0].name"
   ]
  },
  {
   "cell_type": "code",
   "execution_count": null,
   "id": "6c1039b6",
   "metadata": {},
   "outputs": [],
   "source": [
    "for i in "
   ]
  },
  {
   "cell_type": "code",
   "execution_count": null,
   "id": "56c3b137",
   "metadata": {},
   "outputs": [],
   "source": []
  },
  {
   "cell_type": "code",
   "execution_count": 68,
   "id": "82cac085",
   "metadata": {},
   "outputs": [
    {
     "data": {
      "text/plain": [
       "[TextMessage(source='user', models_usage=None, metadata={}, created_at=datetime.datetime(2025, 6, 16, 12, 26, 2, 951617, tzinfo=datetime.timezone.utc), content='give me list of name os items', type='TextMessage'),\n",
       " ToolCallRequestEvent(source='Database_enginer', models_usage=RequestUsage(prompt_tokens=0, completion_tokens=0), metadata={}, created_at=datetime.datetime(2025, 6, 16, 12, 26, 5, 377546, tzinfo=datetime.timezone.utc), content=[FunctionCall(id='call_4LcHcr6peDVyoIXQ88CXT099', arguments='{\"query\":\"SELECT id, name FROM products WHERE id IN (6, 9, 11, 10, 8, 5, 3, 12, 7, 4);\"}', name='sql_db_query_checker')], type='ToolCallRequestEvent'),\n",
       " ToolCallExecutionEvent(source='Database_enginer', models_usage=None, metadata={}, created_at=datetime.datetime(2025, 6, 16, 12, 26, 6, 999043, tzinfo=datetime.timezone.utc), content=[FunctionExecutionResult(content='SELECT id, name FROM products WHERE id IN (6, 9, 11, 10, 8, 5, 3, 12, 7, 4);', name='sql_db_query_checker', call_id='call_4LcHcr6peDVyoIXQ88CXT099', is_error=False)], type='ToolCallExecutionEvent'),\n",
       " ToolCallSummaryMessage(source='Database_enginer', models_usage=None, metadata={}, created_at=datetime.datetime(2025, 6, 16, 12, 26, 6, 999043, tzinfo=datetime.timezone.utc), content='SELECT id, name FROM products WHERE id IN (6, 9, 11, 10, 8, 5, 3, 12, 7, 4);', type='ToolCallSummaryMessage', tool_calls=[FunctionCall(id='call_4LcHcr6peDVyoIXQ88CXT099', arguments='{\"query\":\"SELECT id, name FROM products WHERE id IN (6, 9, 11, 10, 8, 5, 3, 12, 7, 4);\"}', name='sql_db_query_checker')], results=[FunctionExecutionResult(content='SELECT id, name FROM products WHERE id IN (6, 9, 11, 10, 8, 5, 3, 12, 7, 4);', name='sql_db_query_checker', call_id='call_4LcHcr6peDVyoIXQ88CXT099', is_error=False)]),\n",
       " UserInputRequestedEvent(source='UserProxyAgent', models_usage=None, metadata={}, created_at=datetime.datetime(2025, 6, 16, 12, 26, 8, 34472, tzinfo=datetime.timezone.utc), request_id='616f4bbb-5549-4a75-9582-d76d9b459763', content='', type='UserInputRequestedEvent'),\n",
       " TextMessage(source='UserProxyAgent', models_usage=None, metadata={}, created_at=datetime.datetime(2025, 6, 16, 12, 26, 23, 272736, tzinfo=datetime.timezone.utc), content='go ', type='TextMessage'),\n",
       " ToolCallRequestEvent(source='Data_visualization', models_usage=RequestUsage(prompt_tokens=0, completion_tokens=0), metadata={}, created_at=datetime.datetime(2025, 6, 16, 12, 26, 26, 495813, tzinfo=datetime.timezone.utc), content=[FunctionCall(id='call_jDmwQOQw1uqW8KqxrAj2EyZ9', arguments='{\"data\":[[\"Item A\",7],[\"Item B\",4],[\"Item C\",2],[\"Item D\",2],[\"Item E\",2],[\"Item F\",2],[\"Item G\",2],[\"Item H\",1],[\"Item I\",1],[\"Item J\",1]],\"title\":\"Top Sale Items By Name\",\"color\":\"skyblue\",\"xlabel\":\"Item Names\",\"ylabel\":\"Sales Count\"}', name='create_bar_chart')], type='ToolCallRequestEvent'),\n",
       " ToolCallExecutionEvent(source='Data_visualization', models_usage=None, metadata={}, created_at=datetime.datetime(2025, 6, 16, 12, 26, 27, 47981, tzinfo=datetime.timezone.utc), content=[FunctionExecutionResult(content=\"{'status': 'success', 'plot_path': 'plots/bar_chart_20250616_175626.png', 'absolute_path': 'd:\\\\\\\\AutoInsight-AI\\\\\\\\notebook\\\\\\\\plots\\\\\\\\bar_chart_20250616_175626.png'}\", name='create_bar_chart', call_id='call_jDmwQOQw1uqW8KqxrAj2EyZ9', is_error=False)], type='ToolCallExecutionEvent'),\n",
       " ToolCallSummaryMessage(source='Data_visualization', models_usage=None, metadata={}, created_at=datetime.datetime(2025, 6, 16, 12, 26, 27, 47981, tzinfo=datetime.timezone.utc), content=\"{'status': 'success', 'plot_path': 'plots/bar_chart_20250616_175626.png', 'absolute_path': 'd:\\\\\\\\AutoInsight-AI\\\\\\\\notebook\\\\\\\\plots\\\\\\\\bar_chart_20250616_175626.png'}\", type='ToolCallSummaryMessage', tool_calls=[FunctionCall(id='call_jDmwQOQw1uqW8KqxrAj2EyZ9', arguments='{\"data\":[[\"Item A\",7],[\"Item B\",4],[\"Item C\",2],[\"Item D\",2],[\"Item E\",2],[\"Item F\",2],[\"Item G\",2],[\"Item H\",1],[\"Item I\",1],[\"Item J\",1]],\"title\":\"Top Sale Items By Name\",\"color\":\"skyblue\",\"xlabel\":\"Item Names\",\"ylabel\":\"Sales Count\"}', name='create_bar_chart')], results=[FunctionExecutionResult(content=\"{'status': 'success', 'plot_path': 'plots/bar_chart_20250616_175626.png', 'absolute_path': 'd:\\\\\\\\AutoInsight-AI\\\\\\\\notebook\\\\\\\\plots\\\\\\\\bar_chart_20250616_175626.png'}\", name='create_bar_chart', call_id='call_jDmwQOQw1uqW8KqxrAj2EyZ9', is_error=False)]),\n",
       " UserInputRequestedEvent(source='UserProxyAgent', models_usage=None, metadata={}, created_at=datetime.datetime(2025, 6, 16, 12, 26, 27, 871463, tzinfo=datetime.timezone.utc), request_id='f1b8362a-b103-47ee-9b96-943ecb3742a7', content='', type='UserInputRequestedEvent'),\n",
       " TextMessage(source='UserProxyAgent', models_usage=None, metadata={}, created_at=datetime.datetime(2025, 6, 16, 12, 26, 56, 294597, tzinfo=datetime.timezone.utc), content='give the name of items from database , ', type='TextMessage'),\n",
       " ToolCallRequestEvent(source='Database_enginer', models_usage=RequestUsage(prompt_tokens=0, completion_tokens=0), metadata={}, created_at=datetime.datetime(2025, 6, 16, 12, 26, 59, 988728, tzinfo=datetime.timezone.utc), content=[FunctionCall(id='call_rg3U3GAf0Q88riAhHGLMs7Ch', arguments='{\"query\":\"SELECT id, name FROM products WHERE id IN (6, 9, 11, 10, 8, 5, 3, 12, 7, 4);\"}', name='sql_db_query')], type='ToolCallRequestEvent'),\n",
       " ToolCallExecutionEvent(source='Database_enginer', models_usage=None, metadata={}, created_at=datetime.datetime(2025, 6, 16, 12, 26, 59, 993738, tzinfo=datetime.timezone.utc), content=[FunctionExecutionResult(content='Error: (sqlite3.OperationalError) no such column: id\\n[SQL: SELECT id, name FROM products WHERE id IN (6, 9, 11, 10, 8, 5, 3, 12, 7, 4);]\\n(Background on this error at: https://sqlalche.me/e/20/e3q8)', name='sql_db_query', call_id='call_rg3U3GAf0Q88riAhHGLMs7Ch', is_error=False)], type='ToolCallExecutionEvent'),\n",
       " ToolCallSummaryMessage(source='Database_enginer', models_usage=None, metadata={}, created_at=datetime.datetime(2025, 6, 16, 12, 26, 59, 994726, tzinfo=datetime.timezone.utc), content='Error: (sqlite3.OperationalError) no such column: id\\n[SQL: SELECT id, name FROM products WHERE id IN (6, 9, 11, 10, 8, 5, 3, 12, 7, 4);]\\n(Background on this error at: https://sqlalche.me/e/20/e3q8)', type='ToolCallSummaryMessage', tool_calls=[FunctionCall(id='call_rg3U3GAf0Q88riAhHGLMs7Ch', arguments='{\"query\":\"SELECT id, name FROM products WHERE id IN (6, 9, 11, 10, 8, 5, 3, 12, 7, 4);\"}', name='sql_db_query')], results=[FunctionExecutionResult(content='Error: (sqlite3.OperationalError) no such column: id\\n[SQL: SELECT id, name FROM products WHERE id IN (6, 9, 11, 10, 8, 5, 3, 12, 7, 4);]\\n(Background on this error at: https://sqlalche.me/e/20/e3q8)', name='sql_db_query', call_id='call_rg3U3GAf0Q88riAhHGLMs7Ch', is_error=False)]),\n",
       " UserInputRequestedEvent(source='UserProxyAgent', models_usage=None, metadata={}, created_at=datetime.datetime(2025, 6, 16, 12, 27, 3, 389354, tzinfo=datetime.timezone.utc), request_id='30344d21-3d0f-4d29-8718-ca3fd035ed6d', content='', type='UserInputRequestedEvent'),\n",
       " TextMessage(source='UserProxyAgent', models_usage=None, metadata={}, created_at=datetime.datetime(2025, 6, 16, 12, 27, 12, 772123, tzinfo=datetime.timezone.utc), content='retry ', type='TextMessage'),\n",
       " ToolCallRequestEvent(source='Database_enginer', models_usage=RequestUsage(prompt_tokens=0, completion_tokens=0), metadata={}, created_at=datetime.datetime(2025, 6, 16, 12, 27, 15, 27815, tzinfo=datetime.timezone.utc), content=[FunctionCall(id='call_TCI9zFewAMEhuMUDOGk55nOk', arguments='{\"table_names\":\"products\"}', name='sql_db_schema')], type='ToolCallRequestEvent'),\n",
       " ToolCallExecutionEvent(source='Database_enginer', models_usage=None, metadata={}, created_at=datetime.datetime(2025, 6, 16, 12, 27, 15, 32462, tzinfo=datetime.timezone.utc), content=[FunctionExecutionResult(content='\\nCREATE TABLE products (\\n\\tproduct_id INTEGER, \\n\\tproduct_name TEXT NOT NULL, \\n\\tcategory TEXT, \\n\\tprice DECIMAL(10, 2), \\n\\tstock_quantity INTEGER, \\n\\tsupplier_id INTEGER, \\n\\trating DECIMAL(3, 2), \\n\\tPRIMARY KEY (product_id)\\n)\\n\\n/*\\n3 rows from products table:\\nproduct_id\\tproduct_name\\tcategory\\tprice\\tstock_quantity\\tsupplier_id\\trating\\n1\\tLaptop\\tElectronics\\t999.99\\t50\\t1\\t4.50\\n2\\tSmartphone\\tElectronics\\t699.99\\t100\\t1\\t4.30\\n3\\tHeadphones\\tElectronics\\t199.99\\t75\\t2\\t4.10\\n*/', name='sql_db_schema', call_id='call_TCI9zFewAMEhuMUDOGk55nOk', is_error=False)], type='ToolCallExecutionEvent'),\n",
       " ToolCallSummaryMessage(source='Database_enginer', models_usage=None, metadata={}, created_at=datetime.datetime(2025, 6, 16, 12, 27, 15, 33484, tzinfo=datetime.timezone.utc), content='\\nCREATE TABLE products (\\n\\tproduct_id INTEGER, \\n\\tproduct_name TEXT NOT NULL, \\n\\tcategory TEXT, \\n\\tprice DECIMAL(10, 2), \\n\\tstock_quantity INTEGER, \\n\\tsupplier_id INTEGER, \\n\\trating DECIMAL(3, 2), \\n\\tPRIMARY KEY (product_id)\\n)\\n\\n/*\\n3 rows from products table:\\nproduct_id\\tproduct_name\\tcategory\\tprice\\tstock_quantity\\tsupplier_id\\trating\\n1\\tLaptop\\tElectronics\\t999.99\\t50\\t1\\t4.50\\n2\\tSmartphone\\tElectronics\\t699.99\\t100\\t1\\t4.30\\n3\\tHeadphones\\tElectronics\\t199.99\\t75\\t2\\t4.10\\n*/', type='ToolCallSummaryMessage', tool_calls=[FunctionCall(id='call_TCI9zFewAMEhuMUDOGk55nOk', arguments='{\"table_names\":\"products\"}', name='sql_db_schema')], results=[FunctionExecutionResult(content='\\nCREATE TABLE products (\\n\\tproduct_id INTEGER, \\n\\tproduct_name TEXT NOT NULL, \\n\\tcategory TEXT, \\n\\tprice DECIMAL(10, 2), \\n\\tstock_quantity INTEGER, \\n\\tsupplier_id INTEGER, \\n\\trating DECIMAL(3, 2), \\n\\tPRIMARY KEY (product_id)\\n)\\n\\n/*\\n3 rows from products table:\\nproduct_id\\tproduct_name\\tcategory\\tprice\\tstock_quantity\\tsupplier_id\\trating\\n1\\tLaptop\\tElectronics\\t999.99\\t50\\t1\\t4.50\\n2\\tSmartphone\\tElectronics\\t699.99\\t100\\t1\\t4.30\\n3\\tHeadphones\\tElectronics\\t199.99\\t75\\t2\\t4.10\\n*/', name='sql_db_schema', call_id='call_TCI9zFewAMEhuMUDOGk55nOk', is_error=False)]),\n",
       " UserInputRequestedEvent(source='UserProxyAgent', models_usage=None, metadata={}, created_at=datetime.datetime(2025, 6, 16, 12, 27, 15, 563024, tzinfo=datetime.timezone.utc), request_id='5fc48118-f065-4e75-b860-4afcd345849a', content='', type='UserInputRequestedEvent'),\n",
       " TextMessage(source='UserProxyAgent', models_usage=None, metadata={}, created_at=datetime.datetime(2025, 6, 16, 12, 27, 22, 346125, tzinfo=datetime.timezone.utc), content=' ', type='TextMessage'),\n",
       " ToolCallRequestEvent(source='Database_enginer', models_usage=RequestUsage(prompt_tokens=0, completion_tokens=0), metadata={}, created_at=datetime.datetime(2025, 6, 16, 12, 27, 25, 105267, tzinfo=datetime.timezone.utc), content=[FunctionCall(id='call_ZbmTPIi9jaqf8u82IQUv2kYu', arguments='{\"query\":\"SELECT product_id, product_name FROM products WHERE product_id IN (6, 9, 11, 10, 8, 5, 3, 12, 7, 4);\"}', name='sql_db_query')], type='ToolCallRequestEvent'),\n",
       " ToolCallExecutionEvent(source='Database_enginer', models_usage=None, metadata={}, created_at=datetime.datetime(2025, 6, 16, 12, 27, 25, 113260, tzinfo=datetime.timezone.utc), content=[FunctionExecutionResult(content=\"[(3, 'Headphones'), (4, 'Coffee Maker'), (5, 'Organic Coffee'), (6, 'Wireless Mouse'), (7, 'Protein Bars'), (8, 'Tablet'), (9, 'Smart Watch'), (10, 'Blender'), (11, 'Yoga Mat'), (12, 'Gaming Chair')]\", name='sql_db_query', call_id='call_ZbmTPIi9jaqf8u82IQUv2kYu', is_error=False)], type='ToolCallExecutionEvent'),\n",
       " ToolCallSummaryMessage(source='Database_enginer', models_usage=None, metadata={}, created_at=datetime.datetime(2025, 6, 16, 12, 27, 25, 113260, tzinfo=datetime.timezone.utc), content=\"[(3, 'Headphones'), (4, 'Coffee Maker'), (5, 'Organic Coffee'), (6, 'Wireless Mouse'), (7, 'Protein Bars'), (8, 'Tablet'), (9, 'Smart Watch'), (10, 'Blender'), (11, 'Yoga Mat'), (12, 'Gaming Chair')]\", type='ToolCallSummaryMessage', tool_calls=[FunctionCall(id='call_ZbmTPIi9jaqf8u82IQUv2kYu', arguments='{\"query\":\"SELECT product_id, product_name FROM products WHERE product_id IN (6, 9, 11, 10, 8, 5, 3, 12, 7, 4);\"}', name='sql_db_query')], results=[FunctionExecutionResult(content=\"[(3, 'Headphones'), (4, 'Coffee Maker'), (5, 'Organic Coffee'), (6, 'Wireless Mouse'), (7, 'Protein Bars'), (8, 'Tablet'), (9, 'Smart Watch'), (10, 'Blender'), (11, 'Yoga Mat'), (12, 'Gaming Chair')]\", name='sql_db_query', call_id='call_ZbmTPIi9jaqf8u82IQUv2kYu', is_error=False)]),\n",
       " UserInputRequestedEvent(source='UserProxyAgent', models_usage=None, metadata={}, created_at=datetime.datetime(2025, 6, 16, 12, 27, 25, 858422, tzinfo=datetime.timezone.utc), request_id='a11ca985-f2fc-47e6-a92c-fbf8550a6ee5', content='', type='UserInputRequestedEvent'),\n",
       " TextMessage(source='UserProxyAgent', models_usage=None, metadata={}, created_at=datetime.datetime(2025, 6, 16, 12, 27, 44, 391534, tzinfo=datetime.timezone.utc), content='creata a simple graph ', type='TextMessage'),\n",
       " ToolCallRequestEvent(source='Data_visualization', models_usage=RequestUsage(prompt_tokens=0, completion_tokens=0), metadata={}, created_at=datetime.datetime(2025, 6, 16, 12, 27, 47, 551885, tzinfo=datetime.timezone.utc), content=[FunctionCall(id='call_ql5tRFr620RMOpbTU5wLde1k', arguments='{\"data\":[[\"Headphones\",3],[\"Coffee Maker\",4],[\"Organic Coffee\",5],[\"Wireless Mouse\",6],[\"Protein Bars\",7],[\"Tablet\",8],[\"Smart Watch\",9],[\"Blender\",10],[\"Yoga Mat\",11],[\"Gaming Chair\",12]],\"title\":\"Product List\",\"color\":\"skyblue\",\"xlabel\":\"Product Names\",\"ylabel\":\"Product ID\"}', name='create_bar_chart')], type='ToolCallRequestEvent'),\n",
       " ToolCallExecutionEvent(source='Data_visualization', models_usage=None, metadata={}, created_at=datetime.datetime(2025, 6, 16, 12, 27, 48, 163409, tzinfo=datetime.timezone.utc), content=[FunctionExecutionResult(content=\"{'status': 'success', 'plot_path': 'plots/bar_chart_20250616_175747.png', 'absolute_path': 'd:\\\\\\\\AutoInsight-AI\\\\\\\\notebook\\\\\\\\plots\\\\\\\\bar_chart_20250616_175747.png'}\", name='create_bar_chart', call_id='call_ql5tRFr620RMOpbTU5wLde1k', is_error=False)], type='ToolCallExecutionEvent'),\n",
       " ToolCallSummaryMessage(source='Data_visualization', models_usage=None, metadata={}, created_at=datetime.datetime(2025, 6, 16, 12, 27, 48, 163409, tzinfo=datetime.timezone.utc), content=\"{'status': 'success', 'plot_path': 'plots/bar_chart_20250616_175747.png', 'absolute_path': 'd:\\\\\\\\AutoInsight-AI\\\\\\\\notebook\\\\\\\\plots\\\\\\\\bar_chart_20250616_175747.png'}\", type='ToolCallSummaryMessage', tool_calls=[FunctionCall(id='call_ql5tRFr620RMOpbTU5wLde1k', arguments='{\"data\":[[\"Headphones\",3],[\"Coffee Maker\",4],[\"Organic Coffee\",5],[\"Wireless Mouse\",6],[\"Protein Bars\",7],[\"Tablet\",8],[\"Smart Watch\",9],[\"Blender\",10],[\"Yoga Mat\",11],[\"Gaming Chair\",12]],\"title\":\"Product List\",\"color\":\"skyblue\",\"xlabel\":\"Product Names\",\"ylabel\":\"Product ID\"}', name='create_bar_chart')], results=[FunctionExecutionResult(content=\"{'status': 'success', 'plot_path': 'plots/bar_chart_20250616_175747.png', 'absolute_path': 'd:\\\\\\\\AutoInsight-AI\\\\\\\\notebook\\\\\\\\plots\\\\\\\\bar_chart_20250616_175747.png'}\", name='create_bar_chart', call_id='call_ql5tRFr620RMOpbTU5wLde1k', is_error=False)]),\n",
       " UserInputRequestedEvent(source='UserProxyAgent', models_usage=None, metadata={}, created_at=datetime.datetime(2025, 6, 16, 12, 27, 49, 146170, tzinfo=datetime.timezone.utc), request_id='3c9591c6-ae59-4f76-81c7-3cd5a6404d30', content='', type='UserInputRequestedEvent'),\n",
       " TextMessage(source='UserProxyAgent', models_usage=None, metadata={}, created_at=datetime.datetime(2025, 6, 16, 12, 28, 5, 174221, tzinfo=datetime.timezone.utc), content='TERMINATE', type='TextMessage')]"
      ]
     },
     "execution_count": 68,
     "metadata": {},
     "output_type": "execute_result"
    }
   ],
   "source": [
    "messages"
   ]
  },
  {
   "cell_type": "code",
   "execution_count": 67,
   "id": "2629df71",
   "metadata": {},
   "outputs": [
    {
     "name": "stdout",
     "output_type": "stream",
     "text": [
      "source='user' models_usage=None metadata={} created_at=datetime.datetime(2025, 6, 16, 12, 26, 2, 951617, tzinfo=datetime.timezone.utc) content='give me list of name os items' type='TextMessage'\n",
      "-------\n",
      "source='Database_enginer' models_usage=RequestUsage(prompt_tokens=0, completion_tokens=0) metadata={} created_at=datetime.datetime(2025, 6, 16, 12, 26, 5, 377546, tzinfo=datetime.timezone.utc) content=[FunctionCall(id='call_4LcHcr6peDVyoIXQ88CXT099', arguments='{\"query\":\"SELECT id, name FROM products WHERE id IN (6, 9, 11, 10, 8, 5, 3, 12, 7, 4);\"}', name='sql_db_query_checker')] type='ToolCallRequestEvent'\n",
      "-------\n",
      "source='Database_enginer' models_usage=None metadata={} created_at=datetime.datetime(2025, 6, 16, 12, 26, 6, 999043, tzinfo=datetime.timezone.utc) content=[FunctionExecutionResult(content='SELECT id, name FROM products WHERE id IN (6, 9, 11, 10, 8, 5, 3, 12, 7, 4);', name='sql_db_query_checker', call_id='call_4LcHcr6peDVyoIXQ88CXT099', is_error=False)] type='ToolCallExecutionEvent'\n",
      "-------\n",
      "source='Database_enginer' models_usage=None metadata={} created_at=datetime.datetime(2025, 6, 16, 12, 26, 6, 999043, tzinfo=datetime.timezone.utc) content='SELECT id, name FROM products WHERE id IN (6, 9, 11, 10, 8, 5, 3, 12, 7, 4);' type='ToolCallSummaryMessage' tool_calls=[FunctionCall(id='call_4LcHcr6peDVyoIXQ88CXT099', arguments='{\"query\":\"SELECT id, name FROM products WHERE id IN (6, 9, 11, 10, 8, 5, 3, 12, 7, 4);\"}', name='sql_db_query_checker')] results=[FunctionExecutionResult(content='SELECT id, name FROM products WHERE id IN (6, 9, 11, 10, 8, 5, 3, 12, 7, 4);', name='sql_db_query_checker', call_id='call_4LcHcr6peDVyoIXQ88CXT099', is_error=False)]\n",
      "-------\n",
      "source='UserProxyAgent' models_usage=None metadata={} created_at=datetime.datetime(2025, 6, 16, 12, 26, 8, 34472, tzinfo=datetime.timezone.utc) request_id='616f4bbb-5549-4a75-9582-d76d9b459763' content='' type='UserInputRequestedEvent'\n",
      "-------\n",
      "source='UserProxyAgent' models_usage=None metadata={} created_at=datetime.datetime(2025, 6, 16, 12, 26, 23, 272736, tzinfo=datetime.timezone.utc) content='go ' type='TextMessage'\n",
      "-------\n",
      "source='Data_visualization' models_usage=RequestUsage(prompt_tokens=0, completion_tokens=0) metadata={} created_at=datetime.datetime(2025, 6, 16, 12, 26, 26, 495813, tzinfo=datetime.timezone.utc) content=[FunctionCall(id='call_jDmwQOQw1uqW8KqxrAj2EyZ9', arguments='{\"data\":[[\"Item A\",7],[\"Item B\",4],[\"Item C\",2],[\"Item D\",2],[\"Item E\",2],[\"Item F\",2],[\"Item G\",2],[\"Item H\",1],[\"Item I\",1],[\"Item J\",1]],\"title\":\"Top Sale Items By Name\",\"color\":\"skyblue\",\"xlabel\":\"Item Names\",\"ylabel\":\"Sales Count\"}', name='create_bar_chart')] type='ToolCallRequestEvent'\n",
      "-------\n",
      "source='Data_visualization' models_usage=None metadata={} created_at=datetime.datetime(2025, 6, 16, 12, 26, 27, 47981, tzinfo=datetime.timezone.utc) content=[FunctionExecutionResult(content=\"{'status': 'success', 'plot_path': 'plots/bar_chart_20250616_175626.png', 'absolute_path': 'd:\\\\\\\\AutoInsight-AI\\\\\\\\notebook\\\\\\\\plots\\\\\\\\bar_chart_20250616_175626.png'}\", name='create_bar_chart', call_id='call_jDmwQOQw1uqW8KqxrAj2EyZ9', is_error=False)] type='ToolCallExecutionEvent'\n",
      "-------\n",
      "source='Data_visualization' models_usage=None metadata={} created_at=datetime.datetime(2025, 6, 16, 12, 26, 27, 47981, tzinfo=datetime.timezone.utc) content=\"{'status': 'success', 'plot_path': 'plots/bar_chart_20250616_175626.png', 'absolute_path': 'd:\\\\\\\\AutoInsight-AI\\\\\\\\notebook\\\\\\\\plots\\\\\\\\bar_chart_20250616_175626.png'}\" type='ToolCallSummaryMessage' tool_calls=[FunctionCall(id='call_jDmwQOQw1uqW8KqxrAj2EyZ9', arguments='{\"data\":[[\"Item A\",7],[\"Item B\",4],[\"Item C\",2],[\"Item D\",2],[\"Item E\",2],[\"Item F\",2],[\"Item G\",2],[\"Item H\",1],[\"Item I\",1],[\"Item J\",1]],\"title\":\"Top Sale Items By Name\",\"color\":\"skyblue\",\"xlabel\":\"Item Names\",\"ylabel\":\"Sales Count\"}', name='create_bar_chart')] results=[FunctionExecutionResult(content=\"{'status': 'success', 'plot_path': 'plots/bar_chart_20250616_175626.png', 'absolute_path': 'd:\\\\\\\\AutoInsight-AI\\\\\\\\notebook\\\\\\\\plots\\\\\\\\bar_chart_20250616_175626.png'}\", name='create_bar_chart', call_id='call_jDmwQOQw1uqW8KqxrAj2EyZ9', is_error=False)]\n",
      "-------\n",
      "source='UserProxyAgent' models_usage=None metadata={} created_at=datetime.datetime(2025, 6, 16, 12, 26, 27, 871463, tzinfo=datetime.timezone.utc) request_id='f1b8362a-b103-47ee-9b96-943ecb3742a7' content='' type='UserInputRequestedEvent'\n",
      "-------\n",
      "source='UserProxyAgent' models_usage=None metadata={} created_at=datetime.datetime(2025, 6, 16, 12, 26, 56, 294597, tzinfo=datetime.timezone.utc) content='give the name of items from database , ' type='TextMessage'\n",
      "-------\n",
      "source='Database_enginer' models_usage=RequestUsage(prompt_tokens=0, completion_tokens=0) metadata={} created_at=datetime.datetime(2025, 6, 16, 12, 26, 59, 988728, tzinfo=datetime.timezone.utc) content=[FunctionCall(id='call_rg3U3GAf0Q88riAhHGLMs7Ch', arguments='{\"query\":\"SELECT id, name FROM products WHERE id IN (6, 9, 11, 10, 8, 5, 3, 12, 7, 4);\"}', name='sql_db_query')] type='ToolCallRequestEvent'\n",
      "-------\n",
      "source='Database_enginer' models_usage=None metadata={} created_at=datetime.datetime(2025, 6, 16, 12, 26, 59, 993738, tzinfo=datetime.timezone.utc) content=[FunctionExecutionResult(content='Error: (sqlite3.OperationalError) no such column: id\\n[SQL: SELECT id, name FROM products WHERE id IN (6, 9, 11, 10, 8, 5, 3, 12, 7, 4);]\\n(Background on this error at: https://sqlalche.me/e/20/e3q8)', name='sql_db_query', call_id='call_rg3U3GAf0Q88riAhHGLMs7Ch', is_error=False)] type='ToolCallExecutionEvent'\n",
      "-------\n",
      "source='Database_enginer' models_usage=None metadata={} created_at=datetime.datetime(2025, 6, 16, 12, 26, 59, 994726, tzinfo=datetime.timezone.utc) content='Error: (sqlite3.OperationalError) no such column: id\\n[SQL: SELECT id, name FROM products WHERE id IN (6, 9, 11, 10, 8, 5, 3, 12, 7, 4);]\\n(Background on this error at: https://sqlalche.me/e/20/e3q8)' type='ToolCallSummaryMessage' tool_calls=[FunctionCall(id='call_rg3U3GAf0Q88riAhHGLMs7Ch', arguments='{\"query\":\"SELECT id, name FROM products WHERE id IN (6, 9, 11, 10, 8, 5, 3, 12, 7, 4);\"}', name='sql_db_query')] results=[FunctionExecutionResult(content='Error: (sqlite3.OperationalError) no such column: id\\n[SQL: SELECT id, name FROM products WHERE id IN (6, 9, 11, 10, 8, 5, 3, 12, 7, 4);]\\n(Background on this error at: https://sqlalche.me/e/20/e3q8)', name='sql_db_query', call_id='call_rg3U3GAf0Q88riAhHGLMs7Ch', is_error=False)]\n",
      "-------\n",
      "source='UserProxyAgent' models_usage=None metadata={} created_at=datetime.datetime(2025, 6, 16, 12, 27, 3, 389354, tzinfo=datetime.timezone.utc) request_id='30344d21-3d0f-4d29-8718-ca3fd035ed6d' content='' type='UserInputRequestedEvent'\n",
      "-------\n",
      "source='UserProxyAgent' models_usage=None metadata={} created_at=datetime.datetime(2025, 6, 16, 12, 27, 12, 772123, tzinfo=datetime.timezone.utc) content='retry ' type='TextMessage'\n",
      "-------\n",
      "source='Database_enginer' models_usage=RequestUsage(prompt_tokens=0, completion_tokens=0) metadata={} created_at=datetime.datetime(2025, 6, 16, 12, 27, 15, 27815, tzinfo=datetime.timezone.utc) content=[FunctionCall(id='call_TCI9zFewAMEhuMUDOGk55nOk', arguments='{\"table_names\":\"products\"}', name='sql_db_schema')] type='ToolCallRequestEvent'\n",
      "-------\n",
      "source='Database_enginer' models_usage=None metadata={} created_at=datetime.datetime(2025, 6, 16, 12, 27, 15, 32462, tzinfo=datetime.timezone.utc) content=[FunctionExecutionResult(content='\\nCREATE TABLE products (\\n\\tproduct_id INTEGER, \\n\\tproduct_name TEXT NOT NULL, \\n\\tcategory TEXT, \\n\\tprice DECIMAL(10, 2), \\n\\tstock_quantity INTEGER, \\n\\tsupplier_id INTEGER, \\n\\trating DECIMAL(3, 2), \\n\\tPRIMARY KEY (product_id)\\n)\\n\\n/*\\n3 rows from products table:\\nproduct_id\\tproduct_name\\tcategory\\tprice\\tstock_quantity\\tsupplier_id\\trating\\n1\\tLaptop\\tElectronics\\t999.99\\t50\\t1\\t4.50\\n2\\tSmartphone\\tElectronics\\t699.99\\t100\\t1\\t4.30\\n3\\tHeadphones\\tElectronics\\t199.99\\t75\\t2\\t4.10\\n*/', name='sql_db_schema', call_id='call_TCI9zFewAMEhuMUDOGk55nOk', is_error=False)] type='ToolCallExecutionEvent'\n",
      "-------\n",
      "source='Database_enginer' models_usage=None metadata={} created_at=datetime.datetime(2025, 6, 16, 12, 27, 15, 33484, tzinfo=datetime.timezone.utc) content='\\nCREATE TABLE products (\\n\\tproduct_id INTEGER, \\n\\tproduct_name TEXT NOT NULL, \\n\\tcategory TEXT, \\n\\tprice DECIMAL(10, 2), \\n\\tstock_quantity INTEGER, \\n\\tsupplier_id INTEGER, \\n\\trating DECIMAL(3, 2), \\n\\tPRIMARY KEY (product_id)\\n)\\n\\n/*\\n3 rows from products table:\\nproduct_id\\tproduct_name\\tcategory\\tprice\\tstock_quantity\\tsupplier_id\\trating\\n1\\tLaptop\\tElectronics\\t999.99\\t50\\t1\\t4.50\\n2\\tSmartphone\\tElectronics\\t699.99\\t100\\t1\\t4.30\\n3\\tHeadphones\\tElectronics\\t199.99\\t75\\t2\\t4.10\\n*/' type='ToolCallSummaryMessage' tool_calls=[FunctionCall(id='call_TCI9zFewAMEhuMUDOGk55nOk', arguments='{\"table_names\":\"products\"}', name='sql_db_schema')] results=[FunctionExecutionResult(content='\\nCREATE TABLE products (\\n\\tproduct_id INTEGER, \\n\\tproduct_name TEXT NOT NULL, \\n\\tcategory TEXT, \\n\\tprice DECIMAL(10, 2), \\n\\tstock_quantity INTEGER, \\n\\tsupplier_id INTEGER, \\n\\trating DECIMAL(3, 2), \\n\\tPRIMARY KEY (product_id)\\n)\\n\\n/*\\n3 rows from products table:\\nproduct_id\\tproduct_name\\tcategory\\tprice\\tstock_quantity\\tsupplier_id\\trating\\n1\\tLaptop\\tElectronics\\t999.99\\t50\\t1\\t4.50\\n2\\tSmartphone\\tElectronics\\t699.99\\t100\\t1\\t4.30\\n3\\tHeadphones\\tElectronics\\t199.99\\t75\\t2\\t4.10\\n*/', name='sql_db_schema', call_id='call_TCI9zFewAMEhuMUDOGk55nOk', is_error=False)]\n",
      "-------\n",
      "source='UserProxyAgent' models_usage=None metadata={} created_at=datetime.datetime(2025, 6, 16, 12, 27, 15, 563024, tzinfo=datetime.timezone.utc) request_id='5fc48118-f065-4e75-b860-4afcd345849a' content='' type='UserInputRequestedEvent'\n",
      "-------\n",
      "source='UserProxyAgent' models_usage=None metadata={} created_at=datetime.datetime(2025, 6, 16, 12, 27, 22, 346125, tzinfo=datetime.timezone.utc) content=' ' type='TextMessage'\n",
      "-------\n",
      "source='Database_enginer' models_usage=RequestUsage(prompt_tokens=0, completion_tokens=0) metadata={} created_at=datetime.datetime(2025, 6, 16, 12, 27, 25, 105267, tzinfo=datetime.timezone.utc) content=[FunctionCall(id='call_ZbmTPIi9jaqf8u82IQUv2kYu', arguments='{\"query\":\"SELECT product_id, product_name FROM products WHERE product_id IN (6, 9, 11, 10, 8, 5, 3, 12, 7, 4);\"}', name='sql_db_query')] type='ToolCallRequestEvent'\n",
      "-------\n",
      "source='Database_enginer' models_usage=None metadata={} created_at=datetime.datetime(2025, 6, 16, 12, 27, 25, 113260, tzinfo=datetime.timezone.utc) content=[FunctionExecutionResult(content=\"[(3, 'Headphones'), (4, 'Coffee Maker'), (5, 'Organic Coffee'), (6, 'Wireless Mouse'), (7, 'Protein Bars'), (8, 'Tablet'), (9, 'Smart Watch'), (10, 'Blender'), (11, 'Yoga Mat'), (12, 'Gaming Chair')]\", name='sql_db_query', call_id='call_ZbmTPIi9jaqf8u82IQUv2kYu', is_error=False)] type='ToolCallExecutionEvent'\n",
      "-------\n",
      "source='Database_enginer' models_usage=None metadata={} created_at=datetime.datetime(2025, 6, 16, 12, 27, 25, 113260, tzinfo=datetime.timezone.utc) content=\"[(3, 'Headphones'), (4, 'Coffee Maker'), (5, 'Organic Coffee'), (6, 'Wireless Mouse'), (7, 'Protein Bars'), (8, 'Tablet'), (9, 'Smart Watch'), (10, 'Blender'), (11, 'Yoga Mat'), (12, 'Gaming Chair')]\" type='ToolCallSummaryMessage' tool_calls=[FunctionCall(id='call_ZbmTPIi9jaqf8u82IQUv2kYu', arguments='{\"query\":\"SELECT product_id, product_name FROM products WHERE product_id IN (6, 9, 11, 10, 8, 5, 3, 12, 7, 4);\"}', name='sql_db_query')] results=[FunctionExecutionResult(content=\"[(3, 'Headphones'), (4, 'Coffee Maker'), (5, 'Organic Coffee'), (6, 'Wireless Mouse'), (7, 'Protein Bars'), (8, 'Tablet'), (9, 'Smart Watch'), (10, 'Blender'), (11, 'Yoga Mat'), (12, 'Gaming Chair')]\", name='sql_db_query', call_id='call_ZbmTPIi9jaqf8u82IQUv2kYu', is_error=False)]\n",
      "-------\n",
      "source='UserProxyAgent' models_usage=None metadata={} created_at=datetime.datetime(2025, 6, 16, 12, 27, 25, 858422, tzinfo=datetime.timezone.utc) request_id='a11ca985-f2fc-47e6-a92c-fbf8550a6ee5' content='' type='UserInputRequestedEvent'\n",
      "-------\n",
      "source='UserProxyAgent' models_usage=None metadata={} created_at=datetime.datetime(2025, 6, 16, 12, 27, 44, 391534, tzinfo=datetime.timezone.utc) content='creata a simple graph ' type='TextMessage'\n",
      "-------\n",
      "source='Data_visualization' models_usage=RequestUsage(prompt_tokens=0, completion_tokens=0) metadata={} created_at=datetime.datetime(2025, 6, 16, 12, 27, 47, 551885, tzinfo=datetime.timezone.utc) content=[FunctionCall(id='call_ql5tRFr620RMOpbTU5wLde1k', arguments='{\"data\":[[\"Headphones\",3],[\"Coffee Maker\",4],[\"Organic Coffee\",5],[\"Wireless Mouse\",6],[\"Protein Bars\",7],[\"Tablet\",8],[\"Smart Watch\",9],[\"Blender\",10],[\"Yoga Mat\",11],[\"Gaming Chair\",12]],\"title\":\"Product List\",\"color\":\"skyblue\",\"xlabel\":\"Product Names\",\"ylabel\":\"Product ID\"}', name='create_bar_chart')] type='ToolCallRequestEvent'\n",
      "-------\n",
      "source='Data_visualization' models_usage=None metadata={} created_at=datetime.datetime(2025, 6, 16, 12, 27, 48, 163409, tzinfo=datetime.timezone.utc) content=[FunctionExecutionResult(content=\"{'status': 'success', 'plot_path': 'plots/bar_chart_20250616_175747.png', 'absolute_path': 'd:\\\\\\\\AutoInsight-AI\\\\\\\\notebook\\\\\\\\plots\\\\\\\\bar_chart_20250616_175747.png'}\", name='create_bar_chart', call_id='call_ql5tRFr620RMOpbTU5wLde1k', is_error=False)] type='ToolCallExecutionEvent'\n",
      "-------\n",
      "source='Data_visualization' models_usage=None metadata={} created_at=datetime.datetime(2025, 6, 16, 12, 27, 48, 163409, tzinfo=datetime.timezone.utc) content=\"{'status': 'success', 'plot_path': 'plots/bar_chart_20250616_175747.png', 'absolute_path': 'd:\\\\\\\\AutoInsight-AI\\\\\\\\notebook\\\\\\\\plots\\\\\\\\bar_chart_20250616_175747.png'}\" type='ToolCallSummaryMessage' tool_calls=[FunctionCall(id='call_ql5tRFr620RMOpbTU5wLde1k', arguments='{\"data\":[[\"Headphones\",3],[\"Coffee Maker\",4],[\"Organic Coffee\",5],[\"Wireless Mouse\",6],[\"Protein Bars\",7],[\"Tablet\",8],[\"Smart Watch\",9],[\"Blender\",10],[\"Yoga Mat\",11],[\"Gaming Chair\",12]],\"title\":\"Product List\",\"color\":\"skyblue\",\"xlabel\":\"Product Names\",\"ylabel\":\"Product ID\"}', name='create_bar_chart')] results=[FunctionExecutionResult(content=\"{'status': 'success', 'plot_path': 'plots/bar_chart_20250616_175747.png', 'absolute_path': 'd:\\\\\\\\AutoInsight-AI\\\\\\\\notebook\\\\\\\\plots\\\\\\\\bar_chart_20250616_175747.png'}\", name='create_bar_chart', call_id='call_ql5tRFr620RMOpbTU5wLde1k', is_error=False)]\n",
      "-------\n",
      "source='UserProxyAgent' models_usage=None metadata={} created_at=datetime.datetime(2025, 6, 16, 12, 27, 49, 146170, tzinfo=datetime.timezone.utc) request_id='3c9591c6-ae59-4f76-81c7-3cd5a6404d30' content='' type='UserInputRequestedEvent'\n",
      "-------\n",
      "source='UserProxyAgent' models_usage=None metadata={} created_at=datetime.datetime(2025, 6, 16, 12, 28, 5, 174221, tzinfo=datetime.timezone.utc) content='TERMINATE' type='TextMessage'\n",
      "-------\n"
     ]
    }
   ],
   "source": [
    "for i in messages:\n",
    "    print(i)\n",
    "    print(\"-------\")"
   ]
  },
  {
   "cell_type": "code",
   "execution_count": null,
   "id": "0e2a23e3",
   "metadata": {},
   "outputs": [],
   "source": [
    "if messages[-1].result[0].name==\"sql_db_query\":\n",
    "    # return to the data vilizarion \n",
    "    pass\n",
    "for i in messages[-1].result:\n",
    "    if (i.name!=\"sql_db_query\"):\n",
    "        \n"
   ]
  }
 ],
 "metadata": {
  "kernelspec": {
   "display_name": "automl",
   "language": "python",
   "name": "python3"
  },
  "language_info": {
   "codemirror_mode": {
    "name": "ipython",
    "version": 3
   },
   "file_extension": ".py",
   "mimetype": "text/x-python",
   "name": "python",
   "nbconvert_exporter": "python",
   "pygments_lexer": "ipython3",
   "version": "3.12.0"
  }
 },
 "nbformat": 4,
 "nbformat_minor": 5
}
